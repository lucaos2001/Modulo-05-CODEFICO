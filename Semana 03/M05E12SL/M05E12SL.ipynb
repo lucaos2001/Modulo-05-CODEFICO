{
 "cells": [
  {
   "cell_type": "markdown",
   "metadata": {},
   "source": [
    "## Questão 1\n",
    "Faça um programa que calcule a multiplicação de dois números utilizando apenas a operação de soma.\n",
    "\n",
    "#### Dica: Utilize parseInt(variavel) para converter para o tipo inteiro\n",
    "\n",
    "### Exemplo de execução 1:\n",
    "Digite o primeiro número: 8<br/>\n",
    "Digite o segundo número: 12<br/>\n",
    "A multiplicação de 8 por 12 é: 96<br/>"
   ]
  },
  {
   "cell_type": "markdown",
   "metadata": {},
   "source": [
    "## Questão 2\n",
    "Faça um programa que calcule a média de n números informados pelo usuário até ele informar o número 0. Por exemplo, se o usuário informar os números 9 6 2 8 0, o programa deve calcular a média (9+ 6 + 2 + 8) / 4.\n",
    "\n",
    "### Exemplo de execução\n",
    "Digite um número (0 para sair): 5<br/>\n",
    "Digite um número (0 para sair): 8<br/>\n",
    "Digite um número (0 para sair): 3<br/>\n",
    "Digite um número (0 para sair): 0<br/>\n",
    "A média dos números digitados é: 5.333333333333333"
   ]
  },
  {
   "cell_type": "markdown",
   "metadata": {},
   "source": [
    "## Questão 3\n",
    "Faça um programa que desenha um retângulo de altura \"a\" e largura \"l\" usando asteriscos. O usuário deve informar os valores de \"a\" e \"l\", que devem ser maiores que zero e tais que l > a. Note que o seu programa deve\n",
    "garantir que os valores digitados sejam válidos, forçando entradas válidas. O programa também deve perguntar se o usuário gostaria de gerar um retângulo antes de fazer cada impressão. O programa termina assim que o\n",
    "usuário responder \"n\" à pergunta.<br/>\n",
    "### Exemplo de execução:\n",
    "Informe se deseja imprimir um retângulo (s/n): s<br/>\n",
    "Informe a altura do retângulo: 10<br/>\n",
    "Informe a largura do retângulo: 8<br/>\n",
    "Entrada inválida.<br/>\n",
    "Informe a altura do retângulo: 10<br/>\n",
    "Informe a largura do retângulo: 20<br/>\n",
    "\\*\\*\\*\\*\\*\\*\\*\\*\\*\\*\\*\\*\\*\\*\\*\\*\\*\\*\\*\\*<br/>\n",
    "\\*\\*\\*\\*\\*\\*\\*\\*\\*\\*\\*\\*\\*\\*\\*\\*\\*\\*\\*\\*<br/>\n",
    "\\*\\*\\*\\*\\*\\*\\*\\*\\*\\*\\*\\*\\*\\*\\*\\*\\*\\*\\*\\*<br/>\n",
    "\\*\\*\\*\\*\\*\\*\\*\\*\\*\\*\\*\\*\\*\\*\\*\\*\\*\\*\\*\\*<br/>\n",
    "\\*\\*\\*\\*\\*\\*\\*\\*\\*\\*\\*\\*\\*\\*\\*\\*\\*\\*\\*\\*<br/>\n",
    "\\*\\*\\*\\*\\*\\*\\*\\*\\*\\*\\*\\*\\*\\*\\*\\*\\*\\*\\*\\*<br/>\n",
    "\\*\\*\\*\\*\\*\\*\\*\\*\\*\\*\\*\\*\\*\\*\\*\\*\\*\\*\\*\\*<br/>\n",
    "\\*\\*\\*\\*\\*\\*\\*\\*\\*\\*\\*\\*\\*\\*\\*\\*\\*\\*\\*\\*<br/>\n",
    "\\*\\*\\*\\*\\*\\*\\*\\*\\*\\*\\*\\*\\*\\*\\*\\*\\*\\*\\*\\*<br/>\n",
    "\\*\\*\\*\\*\\*\\*\\*\\*\\*\\*\\*\\*\\*\\*\\*\\*\\*\\*\\*\\*<br/>\n",
    "Informe se deseja imprimir outro retângulo (s/n): s<br/>\n",
    "Informe a altura do retângulo: 5<br/>\n",
    "Informe a largura do retângulo: 6<br/>\n",
    "\\*\\*\\*\\*\\*\\*<br/>\n",
    "\\*\\*\\*\\*\\*\\*<br/>\n",
    "\\*\\*\\*\\*\\*\\*<br/>\n",
    "\\*\\*\\*\\*\\*\\*<br/>\n",
    "\\*\\*\\*\\*\\*\\*<br/>\n",
    "Informe se deseja imprimir outro retângulo (s/n): n<br/>s"
   ]
  },
  {
   "cell_type": "markdown",
   "metadata": {},
   "source": [
    "## Questão 4\n",
    "#### Escreva um programa que solicite ao usuário que digite um número inteiro positivo. O programa deve calcular e exibir a sequência de Fibonacci até o número digitado, utilizando um loop for.\n",
    "#### A sequência de Fibonacci é uma sequência de números em que cada número subsequente é igual à soma dos dois números anteriores. A sequência começa com os números 0 e 1. A fórmula para calcular o próximo número da sequência de Fibonacci é dada por: `F(n) = F(n-1) + F(n-2)`\n",
    "#### O programa deve realizar as seguintes etapas:\n",
    "\n",
    "\n",
    "1.   Solicitar ao usuário que digite um número inteiro positivo.\n",
    "2.   Verificar se o número é menor ou igual a 0. Se for, exibir a mensagem \"Nenhum número na sequência.\"\n",
    "3.   Verificar se o número é igual a 1. Se for, exibir a sequência de Fibonacci como \"0\".\n",
    "4.   Verificar se o número é igual a 2. Se for, exibir a sequência de Fibonacci como \"0, 1\".\n",
    "5.   Caso contrário, inicializar a sequência de Fibonacci com os números iniciais 0 e 1.\n",
    "6.   Utilizar um loop for para calcular e adicionar os próximos números da sequência até o número digitado.\n",
    "7.   Exibir a sequência de Fibonacci até o número digitado, separando os números por vírgula.\n",
    "\n",
    "#### Implemente utilizando o comando switch.\n",
    "\n",
    "**EXEMPLO 1:**\n",
    "\n",
    "Entrada: \\\n",
    "Digite um número inteiro positivo: 1\n",
    "\n",
    "Saída: \\\n",
    "Sequência de Fibonacci até 1 : \\\n",
    "0\n",
    "\n",
    "**EXEMPLO 2:**\n",
    "\n",
    "Entrada: \\\n",
    "Digite um número inteiro positivo: 13\n",
    "\n",
    "Saída: \\\n",
    "Sequência de Fibonacci até 13 : \\\n",
    "0, 1, 1, 2, 3, 5, 8, 13"
   ]
  },
  {
   "cell_type": "markdown",
   "metadata": {},
   "source": [
    "## Questão 5\n",
    "#### Escreva um programa que solicite ao usuário que digite um texto. O programa deve exibir o texto invertido, ou seja, as letras devem ser exibidas de trás para frente, utilizando um loop for.\n",
    "#### O programa deve realizar as seguintes etapas:\n",
    "\n",
    "1.   Solicitar ao usuário que digite um texto.\n",
    "2.   Utilizar um loop for para percorrer os caracteres do texto de trás para frente.\n",
    "3.   Concatenar cada caractere à medida que percorremos o texto invertido.\n",
    "4.   Exibir o texto invertido na tela.\n",
    "\n",
    "#### Observe que o texto invertido refere-se à sequência de letras do texto original exibida de trás para frente. Utilize entrada.lengh() para obter o tamanho da string.\n",
    "\n",
    "**EXEMPLO 1:**\n",
    "\n",
    "Entrada: \\\n",
    "Digite um texto: codefico\n",
    "\n",
    "Saída: \\\n",
    "Texto invertida: ocifedoc\n",
    "\n",
    "**EXEMPLO 2:**\n",
    "\n",
    "Entrada: \\\n",
    "Digite um texto: Aula treze\n",
    "\n",
    "Saída: \\\n",
    "Texto invertida: ezert aluA\n"
   ]
  }
 ],
 "metadata": {
  "language_info": {
   "name": "python"
  }
 },
 "nbformat": 4,
 "nbformat_minor": 2
}
